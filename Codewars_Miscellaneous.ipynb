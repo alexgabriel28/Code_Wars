{
  "nbformat": 4,
  "nbformat_minor": 0,
  "metadata": {
    "colab": {
      "name": "Codewars_Miscellaneous.ipynb",
      "provenance": [],
      "authorship_tag": "ABX9TyM9ixfF994LJ/q9CgJfDafR",
      "include_colab_link": true
    },
    "kernelspec": {
      "name": "python3",
      "display_name": "Python 3"
    },
    "language_info": {
      "name": "python"
    }
  },
  "cells": [
    {
      "cell_type": "markdown",
      "metadata": {
        "id": "view-in-github",
        "colab_type": "text"
      },
      "source": [
        "<a href=\"https://colab.research.google.com/github/alexgabriel28/Code_Wars/blob/main/Codewars_Miscellaneous.ipynb\" target=\"_parent\"><img src=\"https://colab.research.google.com/assets/colab-badge.svg\" alt=\"Open In Colab\"/></a>"
      ]
    },
    {
      "cell_type": "code",
      "source": [
        "import re\n",
        "text = \"The-warrior_is-Great\"\n",
        "word_list = re.split(\"-|_\", text)"
      ],
      "metadata": {
        "id": "G-RuYoNNuDCP"
      },
      "execution_count": null,
      "outputs": []
    },
    {
      "cell_type": "code",
      "source": [
        "text = \"The warrior is great\".count(\"The\")"
      ],
      "metadata": {
        "id": "XkI5EQ0MuQZ9"
      },
      "execution_count": null,
      "outputs": []
    },
    {
      "cell_type": "code",
      "source": [
        "def count_bits(n):\n",
        "    count = format(n, \"b\")).count(1)\n",
        "    return count"
      ],
      "metadata": {
        "id": "caLLY5Smv3e-"
      },
      "execution_count": null,
      "outputs": []
    },
    {
      "cell_type": "code",
      "source": [
        "pin = 1234567\n",
        "def check_pin(pin):\n",
        "  try:\n",
        "    pin = int(pin)\n",
        "    if len(str(pin)) == 4 or len(str(pin)) == 6:\n",
        "      return True\n",
        "    else:\n",
        "      return False\n",
        "  except:\n",
        "    return False"
      ],
      "metadata": {
        "id": "-XoATX0cwZIz"
      },
      "execution_count": null,
      "outputs": []
    },
    {
      "cell_type": "code",
      "source": [
        "def zero(func = type(0)):\n",
        "  return func(0)\n",
        "\n",
        "def one(func = type(1)):\n",
        "  return func(1)\n",
        "\n",
        "def two(func = type(2)):\n",
        "  return func(2)\n",
        "\n",
        "def three(func = type(3)):\n",
        "  return func(3)\n",
        "\n",
        "def four(func = type(4)):\n",
        "  return func(4)\n",
        "\n",
        "def five(func = type(5)):\n",
        "  return func(5)\n",
        "\n",
        "def six(func = type(6)):\n",
        "  return func(6)\n",
        "\n",
        "def seven(func = type(7)):\n",
        "  return func(7)\n",
        "\n",
        "def eight(func = type(8)):\n",
        "  return func(8)\n",
        "\n",
        "def nine(func = type(9)):\n",
        "  return func(9)\n",
        "\n",
        "def plus(a):\n",
        "  def inner(b):\n",
        "    return a + b\n",
        "  return inner\n",
        "\n",
        "def minus(a):\n",
        "  def inner(b):\n",
        "    return b - a\n",
        "  return inner\n",
        "\n",
        "def times(a):\n",
        "  def inner(b):\n",
        "    return a * b\n",
        "  return inner\n",
        "\n",
        "def divided_by(a):\n",
        "  def inner(b):\n",
        "    return b // a\n",
        "  return inner"
      ],
      "metadata": {
        "id": "0Jifq0Pm8gAu"
      },
      "execution_count": null,
      "outputs": []
    },
    {
      "cell_type": "code",
      "source": [
        "@times\n",
        "def eight(func = type(8)):\n",
        "  return func(8)"
      ],
      "metadata": {
        "id": "zDPxcg7KGNc4"
      },
      "execution_count": null,
      "outputs": []
    },
    {
      "cell_type": "code",
      "source": [
        "@times\n",
        "def eight():\n",
        "  return 8"
      ],
      "metadata": {
        "id": "de1TkRuLUxAl"
      },
      "execution_count": null,
      "outputs": []
    },
    {
      "cell_type": "code",
      "source": [
        "def decorator(func):\n",
        "  def inner(list_1):\n",
        "    return map(func, list_1) + 5\n",
        "  return inner\n",
        "\n",
        "@decorator\n",
        "def by_2(list_1):\n",
        "  return list_1 / 2"
      ],
      "metadata": {
        "id": "GgpNHPJyWdVj"
      },
      "execution_count": null,
      "outputs": []
    },
    {
      "cell_type": "code",
      "source": [
        "def decorator_list(fnc):\n",
        "    def inner(list_of_tuples):\n",
        "        return [fnc(val[0], val[1]) for val in list_of_tuples]\n",
        "    return inner\n",
        "\n",
        "\n",
        "@decorator_list\n",
        "def add_together(a, b):\n",
        "    return a + b\n",
        "\n",
        "\n",
        "print(add_together([(1, 3), (3, 17), (5, 5), (6, 7)]))\n",
        "\n",
        "# add_together = decorator_list(add_together)"
      ],
      "metadata": {
        "colab": {
          "base_uri": "https://localhost:8080/"
        },
        "id": "ql_0vtKbXRCA",
        "outputId": "9226e857-c78d-4a07-fdaf-4d1f9f5e2f47"
      },
      "execution_count": null,
      "outputs": [
        {
          "output_type": "stream",
          "name": "stdout",
          "text": [
            "[4, 20, 10, 13]\n"
          ]
        }
      ]
    },
    {
      "cell_type": "code",
      "source": [
        "def max_sequence(arr):\n",
        "  sum_list = [0]\n",
        "  sub_arrays = []\n",
        "  if arr == []:\n",
        "    return 0\n",
        "\n",
        "  arr_length = len(arr)\n",
        "  for i in range(1, arr_length + 1):\n",
        "    j = 0\n",
        "    for j in range(0, arr_length - i + 1):\n",
        "      sub_array = arr[j:i+j]\n",
        "      sub_sum = sum(sub_array)\n",
        "      sub_arrays.append(sub_array)\n",
        "      if sub_sum > max(sum_list):\n",
        "        sum_list.append(sub_sum)\n",
        "      j += 1\n",
        "  return max(sum_list), sub_arrays"
      ],
      "metadata": {
        "id": "aSIb-61yYM-X"
      },
      "execution_count": null,
      "outputs": []
    },
    {
      "cell_type": "code",
      "source": [
        "max_sequence([1,2,3,4])"
      ],
      "metadata": {
        "id": "NSqLV44mblp7"
      },
      "execution_count": null,
      "outputs": []
    },
    {
      "cell_type": "code",
      "source": [
        "arr = [1,2,3,4]\n",
        "arr_length = len(arr)\n",
        "for i in range(1, arr_length):\n",
        "  array[i]"
      ],
      "metadata": {
        "id": "w8RxWlsYcXCE"
      },
      "execution_count": null,
      "outputs": []
    },
    {
      "cell_type": "code",
      "source": [
        "signature = [0,1,1]\n",
        "n = 5\n",
        "trib_list = signature\n",
        "trib_list.append(signature)\n",
        "i = 0\n",
        "while i < n - 3:\n",
        "    trib_sum = sum(trib_list[i:i+3])\n",
        "    trib_list.append(trib_sum)\n",
        "    i += 1\n",
        "return trib_list"
      ],
      "metadata": {
        "id": "dyoUIhtomH8Z"
      },
      "execution_count": null,
      "outputs": []
    },
    {
      "cell_type": "code",
      "source": [
        "def find_even_index(arr):\n",
        "  for i in range(0, len(arr)):\n",
        "    if sum(arr) == 0:\n",
        "      return 0\n",
        "      break\n",
        "    sum_left = sum(arr[:i])\n",
        "    sum_right = sum(arr[i+1:])\n",
        "    if sum_left == sum_right:\n",
        "      return i\n",
        "      break\n",
        "  return -1"
      ],
      "metadata": {
        "id": "5t_R68N3ouzb"
      },
      "execution_count": null,
      "outputs": []
    },
    {
      "cell_type": "code",
      "source": [
        "def sort_array(source_array):\n",
        "    value_list = []\n",
        "    index_list = []\n",
        "    for index, value in enumerate(source_array):\n",
        "        if value % 2 == 0:\n",
        "            pass\n",
        "        else:\n",
        "            value_list.append(value)\n",
        "            index_list.append(index)\n",
        "    value_list = sorted(value_list)\n",
        "    for index, value in zip(index_list, value_list):\n",
        "      source_array[index] = value\n",
        "    return source_array"
      ],
      "metadata": {
        "id": "yugpMOxaprrd"
      },
      "execution_count": null,
      "outputs": []
    },
    {
      "cell_type": "code",
      "source": [
        "def rgb(r, g, b):\n",
        "    return \"{0:02X}{1:02X}{2:02X}\".format(*map(lambda x: max(0, min(x,255)), [r,g,b]))"
      ],
      "metadata": {
        "id": "NU2Ww_t60J_v"
      },
      "execution_count": null,
      "outputs": []
    },
    {
      "cell_type": "code",
      "source": [
        "def pick_peaks(arr):\n",
        "  peak_dict = {\"pos\":[], \"peak\":[]}\n",
        "  for index, value in enumerate(arr):\n",
        "    if index > 0 & index < len(arr) - 2:\n",
        "      if (arr[index - 1] < value) & (arr[index + 1] < value):\n",
        "        peak_dict[\"pos\"].append(index)\n",
        "        peak_dict[\"peak\"].append(value)\n",
        "  return peak_dict"
      ],
      "metadata": {
        "id": "IGq-Tq8e35xM"
      },
      "execution_count": null,
      "outputs": []
    },
    {
      "cell_type": "code",
      "source": [
        "def pick_peaks(arr):\n",
        "  arr_2 = []\n",
        "  arr_2_idx = []\n",
        "  peak_dict = {\"pos\":[], \"peak\":[]}\n",
        "  for index, value in enumerate(arr):\n",
        "    if value != arr[index-1]:\n",
        "      arr_2.append(value)\n",
        "      arr_2_idx.append(index)\n",
        "  for index, value in enumerate(arr_2):\n",
        "    if (index > 0) & (index < len(arr_2)-1):\n",
        "      if (value > arr_2[index-1]) & (value > arr_2[index+1]):\n",
        "        peak_dict[\"pos\"].append(arr_2_idx[index])\n",
        "        peak_dict[\"peak\"].append(value)\n",
        "  return peak_dict"
      ],
      "metadata": {
        "id": "3MN1J7esAu4U"
      },
      "execution_count": null,
      "outputs": []
    },
    {
      "cell_type": "code",
      "source": [
        "fib_numbers = {0:0, 1:1}\n",
        "def fibonacci(n):\n",
        "    if n in [0, 1]:\n",
        "        return n\n",
        "    else:\n",
        "      if n not in fib_numbers:\n",
        "          for i in range(2,n+1):\n",
        "              fib_numbers[i] = fib_numbers[i-1] + fib_numbers[i-2]\n",
        "    return fib_numbers[n]"
      ],
      "metadata": {
        "id": "SvY8gj2VOI5T"
      },
      "execution_count": null,
      "outputs": []
    },
    {
      "cell_type": "code",
      "source": [
        "def remov_nb(n):\n",
        "  sum_values = {}\n",
        "  mult_values = {}\n",
        "  key_list = []\n",
        "  for i in range(1, n + 1):\n",
        "        for j in range(1, n + 1):\n",
        "            sum_values[(i,j)] = sum(range(1, n+1)) - i - j\n",
        "            mult_values[(i,j)] = i*j\n",
        "  for key in sum_values:\n",
        "    if (key in mult_values and sum_values[key] == mult_values[key]):\n",
        "      key_list.append(key) \n",
        "  return key_list, sum_values, mult_values"
      ],
      "metadata": {
        "id": "OB8ZNZEqYd9Z"
      },
      "execution_count": null,
      "outputs": []
    },
    {
      "cell_type": "code",
      "source": [
        "sum_values = {}\n",
        "sum_values[5149] = 1"
      ],
      "metadata": {
        "id": "TKevHwtqfYib"
      },
      "execution_count": null,
      "outputs": []
    },
    {
      "cell_type": "code",
      "source": [
        "def remov_nb(n):\n",
        "  numbers = list(range(1,n+1))\n",
        "  numbers_mult = []\n",
        "  numbers_sum = []\n",
        "\n",
        "  for i in range(1, n+1):\n",
        "    numbers_mult = [number * i for number in numbers]\n",
        "    numbers_sum = [number+i for number in numbers]\n",
        "    sub = numbers_mult - numbers_sum\n",
        "    if 0 in sub:\n",
        "      sub.index(0)\n",
        "      key_list.append((i,j), (j,i))\n",
        "    return key_list"
      ],
      "metadata": {
        "id": "YEz1KARvjtFo"
      },
      "execution_count": null,
      "outputs": []
    },
    {
      "cell_type": "code",
      "source": [
        "def most_frequent(data):\n",
        "    \"\"\"\n",
        "        determines the most frequently occurring string in the sequence.\n",
        "    \"\"\"\n",
        "    data_set = set(data)\n",
        "    solution = {}\n",
        "    for entry in data_set:\n",
        "        solution[entry] = data.count(entry)\n",
        "    max_key = max(solution, key = solution.get)\n",
        "    return max_key, solution, data_set"
      ],
      "metadata": {
        "id": "TL7JOD-RezAs"
      },
      "execution_count": null,
      "outputs": []
    },
    {
      "cell_type": "code",
      "source": [
        "class PaginationHelper:\n",
        "  # The constructor takes in an array of items and a integer indicating\n",
        "  # how many items fit within a single page\n",
        "  def __init__(self, collection, items_per_page):\n",
        "      self.collection = collection\n",
        "      self.items_per_page = items_per_page\n",
        "      self.i_c = len(self.collection)\n",
        "      if self.i_c % self.items_per_page == 0:\n",
        "          self.p_c = self.i_c // self.items_per_page\n",
        "      else:\n",
        "          self.p_c = self.i_c // self.items_per_page + 1\n",
        "\n",
        "  def item_count(self):\n",
        "      return self.i_c\n",
        "\n",
        "  def page_count(self):\n",
        "      return self.p_c\n",
        "\n",
        "  def page_item_count(self, page_index):\n",
        "    a = len(self.collection)      \n",
        "    if a % self.items_per_page == 0:\n",
        "          self.p_c = a // self.items_per_page\n",
        "    else:\n",
        "          self.p_c = a // self.items_per_page + 1\n",
        "\n",
        "    if page_index < self.p_c:\n",
        "      self.p_i_c = self.items_per_page\n",
        "    \n",
        "    elif page_index >= self.p_c:\n",
        "      self.p_i_c = -1\n",
        "\n",
        "    else:\n",
        "      self.p_i_c = a - (a // self.items_per_page) * self.items_per_page\n",
        "    return self.p_i_c\n",
        "\n",
        "  def page_index(self, item_index):\n",
        "    if item_index >= self.i_c:\n",
        "      self.p_i = -1\n",
        "    else:\n",
        "      self.p_i = item_index // self.items_per_page + 1\n",
        "    return self.p_i"
      ],
      "metadata": {
        "id": "lqtqtVFisIaC"
      },
      "execution_count": null,
      "outputs": []
    },
    {
      "cell_type": "code",
      "source": [
        "helper = PaginationHelper([1,2,3,4,5,6,7,8, 9], 4)\n",
        "print(helper.item_count)"
      ],
      "metadata": {
        "colab": {
          "base_uri": "https://localhost:8080/"
        },
        "id": "8sghoRASvMO8",
        "outputId": "d41c4cbe-dc6a-4a7e-f143-8387454cc0a5"
      },
      "execution_count": null,
      "outputs": [
        {
          "output_type": "stream",
          "name": "stdout",
          "text": [
            "<bound method PaginationHelper.item_count of <__main__.PaginationHelper object at 0x7f708c69f790>>\n"
          ]
        }
      ]
    },
    {
      "cell_type": "code",
      "source": [
        "3//4"
      ],
      "metadata": {
        "colab": {
          "base_uri": "https://localhost:8080/"
        },
        "id": "kpaa93wOvnww",
        "outputId": "f5186a16-6308-4dd5-c52c-0b5257c07ba5"
      },
      "execution_count": null,
      "outputs": [
        {
          "output_type": "execute_result",
          "data": {
            "text/plain": [
              "0"
            ]
          },
          "metadata": {},
          "execution_count": 495
        }
      ]
    },
    {
      "cell_type": "code",
      "source": [
        "import re \n",
        "string = \"abcdefglkashjdfn\"\n",
        "vowel = re.findall(\"[aeiou]\",string)"
      ],
      "metadata": {
        "id": "-eB5imLNLUda"
      },
      "execution_count": null,
      "outputs": []
    },
    {
      "cell_type": "code",
      "source": [
        "fib_dict = {0:0, 1:1}\n",
        "for i in range(2,10000+1):\n",
        "            fib_dict[i] = fib_dict[i-1] + fib_dict[i-2]\n",
        "def productFib(prod):\n",
        "  for i in range(1,prod+1):\n",
        "    if fib_dict[i]*fib_dict[i-1] == prod:\n",
        "      return [fib_dict[i-1], fib_dict[i], True]\n",
        "    elif fib_dict[i]*fib_dict[i-1] > prod:\n",
        "      return [fib_dict[i-1], fib_dict[i], False]"
      ],
      "metadata": {
        "id": "PAB7vwm_Ljzu"
      },
      "execution_count": null,
      "outputs": []
    },
    {
      "cell_type": "code",
      "source": [
        "      if prod == 0:\n",
        "    return [0, 1, True]\n",
        "  elif prod == 1:\n",
        "    return [1,1, True]\n",
        "  elif prod == 2:\n",
        "    return [1,2,True]\n",
        "  elif prod == 3:\n",
        "    return [2,3, False]\n",
        "    if i > 1:\n",
        "      fib_dict[i] = fib_dict[i-1] + fib_dict[i-2]"
      ],
      "metadata": {
        "id": "ssDkCj9TWdDz"
      },
      "execution_count": null,
      "outputs": []
    },
    {
      "cell_type": "code",
      "source": [
        "productFib(1)"
      ],
      "metadata": {
        "id": "PgO86mq4UsrL"
      },
      "execution_count": null,
      "outputs": []
    },
    {
      "cell_type": "code",
      "source": [
        "fib_dict"
      ],
      "metadata": {
        "id": "aFvreAOYSMVv"
      },
      "execution_count": null,
      "outputs": []
    },
    {
      "cell_type": "code",
      "source": [
        "\t\n",
        "# returns the number of items on the current page. page_index is zero based\n",
        "  # this method should return -1 for page_index values that are out of range\n",
        "  def page_item_count(self,page_index):\n",
        "      \n",
        "  \n",
        "  # determines what page an item is on. Zero based indexes.\n",
        "  # this method should return -1 for item_index values that are out of range\n",
        "  def page_index(self,item_index):\n",
        "      \n",
        "  "
      ],
      "metadata": {
        "id": "heCmsHT0vJdG"
      },
      "execution_count": null,
      "outputs": []
    }
  ]
}